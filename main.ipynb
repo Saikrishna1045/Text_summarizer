{
 "cells": [
  {
   "cell_type": "code",
   "execution_count": 1,
   "metadata": {},
   "outputs": [
    {
     "name": "stdout",
     "output_type": "stream",
     "text": [
      "Requirement already satisfied: numpy in c:\\users\\admin\\appdata\\local\\programs\\python\\python312\\lib\\site-packages (1.26.4)\n"
     ]
    },
    {
     "name": "stderr",
     "output_type": "stream",
     "text": [
      "\n",
      "[notice] A new release of pip is available: 24.0 -> 24.3.1\n",
      "[notice] To update, run: python.exe -m pip install --upgrade pip\n",
      "\n",
      "[notice] A new release of pip is available: 24.0 -> 24.3.1\n",
      "[notice] To update, run: python.exe -m pip install --upgrade pip\n"
     ]
    },
    {
     "name": "stdout",
     "output_type": "stream",
     "text": [
      "Requirement already satisfied: pandas in c:\\users\\admin\\appdata\\roaming\\python\\python312\\site-packages (2.2.1)\n",
      "Requirement already satisfied: numpy<2,>=1.26.0 in c:\\users\\admin\\appdata\\local\\programs\\python\\python312\\lib\\site-packages (from pandas) (1.26.4)\n",
      "Requirement already satisfied: python-dateutil>=2.8.2 in c:\\users\\admin\\appdata\\local\\programs\\python\\python312\\lib\\site-packages (from pandas) (2.9.0.post0)\n",
      "Requirement already satisfied: pytz>=2020.1 in c:\\users\\admin\\appdata\\roaming\\python\\python312\\site-packages (from pandas) (2024.1)\n",
      "Requirement already satisfied: tzdata>=2022.7 in c:\\users\\admin\\appdata\\roaming\\python\\python312\\site-packages (from pandas) (2024.1)\n",
      "Requirement already satisfied: six>=1.5 in c:\\users\\admin\\appdata\\local\\programs\\python\\python312\\lib\\site-packages (from python-dateutil>=2.8.2->pandas) (1.16.0)\n"
     ]
    }
   ],
   "source": [
    "!pip install numpy\n",
    "!pip install pandas"
   ]
  },
  {
   "cell_type": "code",
   "execution_count": 2,
   "metadata": {},
   "outputs": [],
   "source": [
    "#text summarization using spacy\n",
    "text = \"\"\"BaseExceptionGroupIn a bustling city of dreams, there lived a young artist named Maya, her heart aflame with a singular ambition: to carve a place for herself in the art world. Yet, despite her innate talent, Maya felt invisible, eclipsed by the established artists who dominated the scene. She believed the key to success lay in imitation—adopting the techniques and trends that others had popularized, blending into the crowd.\n",
    "\n",
    "One fateful evening, Maya encountered Mr. Raoul, an enigmatic and celebrated artist renowned for his avant-garde, often divisive work. His style was as unconventional as it was mesmerizing, evoking emotions that transcended mere aesthetics. Intrigued, Maya asked him the secret to his success. With a knowing smile, he replied, “Perspective, Maya. To see the world as others do is to live forever in their shadow.”\n",
    "\n",
    "Inspired by his words, Maya embarked on a journey of self-discovery. She stopped imitating and began painting her innermost reflections—capturing the city not just as it appeared, but as it resonated within her soul. She portrayed the bustling streets as vibrant realms of hidden narratives and unspoken emotions. Her art, raw and unapologetically personal, defied convention and resonated with an authenticity rarely seen.\n",
    "\n",
    "Before long, Maya’s work garnered attention. Viewers were captivated, drawn to the freshness in her perspective—a viewpoint that challenged the status quo and redefined how people perceived the familiar urban landscape. Her creations began gracing the walls of prestigious galleries, and soon, writers, designers, and filmmakers sought her collaboration, enchanted by her singular vision.\n",
    "\n",
    "Maya realized that her success stemmed not just from technical prowess but from her courage to embrace a distinctive perspective, one that illuminated hidden truths and invited others to view the world through a different lens. In today’s world, where conformity often masquerades as the norm, true success frequently resides in the audacity to see differently and the willingness to chart a path uniquely one’s own.\n",
    "\n",
    "In the end, Maya's journey underscored a powerful truth: that perspective is the invisible compass guiding innovation, the quiet force that breathes originality into all endeavors. It is the courage to redefine one’s view of the world that leads to a legacy both meaningful and enduring.\"\"\""
   ]
  },
  {
   "cell_type": "code",
   "execution_count": 3,
   "metadata": {},
   "outputs": [
    {
     "data": {
      "text/plain": [
       "2366"
      ]
     },
     "execution_count": 3,
     "metadata": {},
     "output_type": "execute_result"
    }
   ],
   "source": [
    "len(text)"
   ]
  },
  {
   "cell_type": "code",
   "execution_count": 5,
   "metadata": {},
   "outputs": [],
   "source": [
    "import sys\n",
    "import math\n",
    "import bs4 as bs\n",
    "import urllib.request\n",
    "import re\n",
    "import PyPDF2\n",
    "import nltk\n",
    "from nltk.stem import WordNetLemmatizer\n",
    "\n",
    "\n"
   ]
  },
  {
   "cell_type": "code",
   "execution_count": 6,
   "metadata": {},
   "outputs": [
    {
     "name": "stdout",
     "output_type": "stream",
     "text": [
      "Requirement already satisfied: pip in c:\\users\\admin\\appdata\\local\\programs\\python\\python312\\lib\\site-packages (24.0)\n",
      "Collecting pip\n",
      "  Using cached pip-24.3.1-py3-none-any.whl.metadata (3.7 kB)\n",
      "Requirement already satisfied: setuptools in c:\\users\\admin\\appdata\\roaming\\python\\python312\\site-packages (69.1.1)\n",
      "Collecting setuptools\n",
      "  Using cached setuptools-75.2.0-py3-none-any.whl.metadata (6.9 kB)\n",
      "Collecting wheel\n",
      "  Using cached wheel-0.44.0-py3-none-any.whl.metadata (2.3 kB)\n",
      "Using cached pip-24.3.1-py3-none-any.whl (1.8 MB)\n",
      "Using cached setuptools-75.2.0-py3-none-any.whl (1.2 MB)\n",
      "Using cached wheel-0.44.0-py3-none-any.whl (67 kB)\n"
     ]
    },
    {
     "name": "stderr",
     "output_type": "stream",
     "text": [
      "ERROR: To modify pip, please run the following command:\n",
      "C:\\Users\\Admin\\AppData\\Local\\Programs\\Python\\Python312\\python.exe -m pip install -U pip setuptools wheel\n",
      "\n",
      "[notice] A new release of pip is available: 24.0 -> 24.3.1\n",
      "[notice] To update, run: python.exe -m pip install --upgrade pip\n"
     ]
    },
    {
     "name": "stdout",
     "output_type": "stream",
     "text": [
      "Requirement already satisfied: spacy in c:\\users\\admin\\appdata\\local\\programs\\python\\python312\\lib\\site-packages (3.8.2)\n",
      "Requirement already satisfied: spacy-legacy<3.1.0,>=3.0.11 in c:\\users\\admin\\appdata\\local\\programs\\python\\python312\\lib\\site-packages (from spacy) (3.0.12)\n",
      "Requirement already satisfied: spacy-loggers<2.0.0,>=1.0.0 in c:\\users\\admin\\appdata\\local\\programs\\python\\python312\\lib\\site-packages (from spacy) (1.0.5)\n",
      "Requirement already satisfied: murmurhash<1.1.0,>=0.28.0 in c:\\users\\admin\\appdata\\local\\programs\\python\\python312\\lib\\site-packages (from spacy) (1.0.10)\n",
      "Requirement already satisfied: cymem<2.1.0,>=2.0.2 in c:\\users\\admin\\appdata\\local\\programs\\python\\python312\\lib\\site-packages (from spacy) (2.0.8)\n",
      "Requirement already satisfied: preshed<3.1.0,>=3.0.2 in c:\\users\\admin\\appdata\\local\\programs\\python\\python312\\lib\\site-packages (from spacy) (3.0.9)\n",
      "Requirement already satisfied: thinc<8.4.0,>=8.3.0 in c:\\users\\admin\\appdata\\local\\programs\\python\\python312\\lib\\site-packages (from spacy) (8.3.2)\n",
      "Requirement already satisfied: wasabi<1.2.0,>=0.9.1 in c:\\users\\admin\\appdata\\local\\programs\\python\\python312\\lib\\site-packages (from spacy) (1.1.2)\n",
      "Requirement already satisfied: srsly<3.0.0,>=2.4.3 in c:\\users\\admin\\appdata\\local\\programs\\python\\python312\\lib\\site-packages (from spacy) (2.4.8)\n",
      "Requirement already satisfied: catalogue<2.1.0,>=2.0.6 in c:\\users\\admin\\appdata\\local\\programs\\python\\python312\\lib\\site-packages (from spacy) (2.0.10)\n",
      "Requirement already satisfied: weasel<0.5.0,>=0.1.0 in c:\\users\\admin\\appdata\\local\\programs\\python\\python312\\lib\\site-packages (from spacy) (0.3.4)\n",
      "Requirement already satisfied: typer<1.0.0,>=0.3.0 in c:\\users\\admin\\appdata\\local\\programs\\python\\python312\\lib\\site-packages (from spacy) (0.9.4)\n",
      "Requirement already satisfied: tqdm<5.0.0,>=4.38.0 in c:\\users\\admin\\appdata\\local\\programs\\python\\python312\\lib\\site-packages (from spacy) (4.66.2)\n",
      "Requirement already satisfied: requests<3.0.0,>=2.13.0 in c:\\users\\admin\\appdata\\local\\programs\\python\\python312\\lib\\site-packages (from spacy) (2.32.3)\n",
      "Requirement already satisfied: pydantic!=1.8,!=1.8.1,<3.0.0,>=1.7.4 in c:\\users\\admin\\appdata\\local\\programs\\python\\python312\\lib\\site-packages (from spacy) (2.7.4)\n",
      "Requirement already satisfied: jinja2 in c:\\users\\admin\\appdata\\local\\programs\\python\\python312\\lib\\site-packages (from spacy) (3.1.3)\n",
      "Requirement already satisfied: setuptools in c:\\users\\admin\\appdata\\roaming\\python\\python312\\site-packages (from spacy) (69.1.1)\n",
      "Requirement already satisfied: packaging>=20.0 in c:\\users\\admin\\appdata\\local\\programs\\python\\python312\\lib\\site-packages (from spacy) (23.2)\n",
      "Requirement already satisfied: langcodes<4.0.0,>=3.2.0 in c:\\users\\admin\\appdata\\local\\programs\\python\\python312\\lib\\site-packages (from spacy) (3.3.0)\n",
      "Requirement already satisfied: numpy>=1.19.0 in c:\\users\\admin\\appdata\\local\\programs\\python\\python312\\lib\\site-packages (from spacy) (1.26.4)\n",
      "Requirement already satisfied: annotated-types>=0.4.0 in c:\\users\\admin\\appdata\\local\\programs\\python\\python312\\lib\\site-packages (from pydantic!=1.8,!=1.8.1,<3.0.0,>=1.7.4->spacy) (0.6.0)\n",
      "Requirement already satisfied: pydantic-core==2.18.4 in c:\\users\\admin\\appdata\\local\\programs\\python\\python312\\lib\\site-packages (from pydantic!=1.8,!=1.8.1,<3.0.0,>=1.7.4->spacy) (2.18.4)\n",
      "Requirement already satisfied: typing-extensions>=4.6.1 in c:\\users\\admin\\appdata\\local\\programs\\python\\python312\\lib\\site-packages (from pydantic!=1.8,!=1.8.1,<3.0.0,>=1.7.4->spacy) (4.10.0)\n",
      "Requirement already satisfied: charset-normalizer<4,>=2 in c:\\users\\admin\\appdata\\local\\programs\\python\\python312\\lib\\site-packages (from requests<3.0.0,>=2.13.0->spacy) (3.3.2)\n",
      "Requirement already satisfied: idna<4,>=2.5 in c:\\users\\admin\\appdata\\local\\programs\\python\\python312\\lib\\site-packages (from requests<3.0.0,>=2.13.0->spacy) (3.6)\n",
      "Requirement already satisfied: urllib3<3,>=1.21.1 in c:\\users\\admin\\appdata\\local\\programs\\python\\python312\\lib\\site-packages (from requests<3.0.0,>=2.13.0->spacy) (2.2.1)\n",
      "Requirement already satisfied: certifi>=2017.4.17 in c:\\users\\admin\\appdata\\local\\programs\\python\\python312\\lib\\site-packages (from requests<3.0.0,>=2.13.0->spacy) (2024.2.2)\n",
      "Requirement already satisfied: blis<1.1.0,>=1.0.0 in c:\\users\\admin\\appdata\\local\\programs\\python\\python312\\lib\\site-packages (from thinc<8.4.0,>=8.3.0->spacy) (1.0.1)\n",
      "Requirement already satisfied: confection<1.0.0,>=0.0.1 in c:\\users\\admin\\appdata\\local\\programs\\python\\python312\\lib\\site-packages (from thinc<8.4.0,>=8.3.0->spacy) (0.1.4)\n",
      "Collecting numpy>=1.19.0 (from spacy)\n",
      "  Using cached numpy-2.0.2-cp312-cp312-win_amd64.whl.metadata (59 kB)\n",
      "Requirement already satisfied: colorama in c:\\users\\admin\\appdata\\local\\programs\\python\\python312\\lib\\site-packages (from tqdm<5.0.0,>=4.38.0->spacy) (0.4.6)\n",
      "Requirement already satisfied: click<9.0.0,>=7.1.1 in c:\\users\\admin\\appdata\\local\\programs\\python\\python312\\lib\\site-packages (from typer<1.0.0,>=0.3.0->spacy) (8.1.7)\n",
      "Requirement already satisfied: cloudpathlib<0.17.0,>=0.7.0 in c:\\users\\admin\\appdata\\local\\programs\\python\\python312\\lib\\site-packages (from weasel<0.5.0,>=0.1.0->spacy) (0.16.0)\n",
      "Requirement already satisfied: smart-open<7.0.0,>=5.2.1 in c:\\users\\admin\\appdata\\local\\programs\\python\\python312\\lib\\site-packages (from weasel<0.5.0,>=0.1.0->spacy) (6.4.0)\n",
      "Requirement already satisfied: MarkupSafe>=2.0 in c:\\users\\admin\\appdata\\local\\programs\\python\\python312\\lib\\site-packages (from jinja2->spacy) (2.1.5)\n",
      "Using cached numpy-2.0.2-cp312-cp312-win_amd64.whl (15.6 MB)\n",
      "Installing collected packages: numpy\n",
      "  Attempting uninstall: numpy\n",
      "    Found existing installation: numpy 1.26.4\n",
      "    Uninstalling numpy-1.26.4:\n",
      "      Successfully uninstalled numpy-1.26.4\n",
      "Successfully installed numpy-2.0.2\n"
     ]
    },
    {
     "name": "stderr",
     "output_type": "stream",
     "text": [
      "  WARNING: Failed to remove contents in a temporary directory 'C:\\Users\\Admin\\AppData\\Local\\Programs\\Python\\Python312\\Lib\\site-packages\\~-mpy.libs'.\n",
      "  You can safely remove it manually.\n",
      "  WARNING: Failed to remove contents in a temporary directory 'C:\\Users\\Admin\\AppData\\Local\\Programs\\Python\\Python312\\Lib\\site-packages\\~-mpy'.\n",
      "  You can safely remove it manually.\n",
      "ERROR: pip's dependency resolver does not currently take into account all the packages that are installed. This behaviour is the source of the following dependency conflicts.\n",
      "pandas 2.2.1 requires numpy<2,>=1.26.0; python_version >= \"3.12\", but you have numpy 2.0.2 which is incompatible.\n",
      "chromadb 0.5.3 requires numpy<2.0.0,>=1.22.5, but you have numpy 2.0.2 which is incompatible.\n",
      "contourpy 1.2.0 requires numpy<2.0,>=1.20, but you have numpy 2.0.2 which is incompatible.\n",
      "gradio 4.28.0 requires numpy~=1.0, but you have numpy 2.0.2 which is incompatible.\n",
      "gradio 4.28.0 requires typer<1.0,>=0.12; sys_platform != \"emscripten\", but you have typer 0.9.4 which is incompatible.\n",
      "langchain 0.2.8 requires numpy<2.0.0,>=1.26.0; python_version >= \"3.12\", but you have numpy 2.0.2 which is incompatible.\n",
      "langchain-community 0.2.5 requires numpy<2.0.0,>=1.26.0; python_version >= \"3.12\", but you have numpy 2.0.2 which is incompatible.\n",
      "langchain-pinecone 0.1.1 requires numpy<2,>=1, but you have numpy 2.0.2 which is incompatible.\n",
      "langchain-pinecone 0.1.1 requires pinecone-client<4.0.0,>=3.2.2, but you have pinecone-client 5.0.1 which is incompatible.\n",
      "llama-index-core 0.11.2 requires numpy<2.0.0, but you have numpy 2.0.2 which is incompatible.\n",
      "matplotlib 3.8.3 requires numpy<2,>=1.21, but you have numpy 2.0.2 which is incompatible.\n",
      "pinecone-text 0.9.0 requires numpy<2.0,>=1.26; python_version >= \"3.12\", but you have numpy 2.0.2 which is incompatible.\n",
      "pyarrow 15.0.0 requires numpy<2,>=1.16.6, but you have numpy 2.0.2 which is incompatible.\n",
      "scikit-learn 1.4.1.post1 requires numpy<2.0,>=1.19.5, but you have numpy 2.0.2 which is incompatible.\n",
      "scipy 1.12.0 requires numpy<1.29.0,>=1.22.4, but you have numpy 2.0.2 which is incompatible.\n",
      "streamlit 1.31.1 requires numpy<2,>=1.19.3, but you have numpy 2.0.2 which is incompatible.\n",
      "transformers 4.42.4 requires numpy<2.0,>=1.17, but you have numpy 2.0.2 which is incompatible.\n",
      "\n",
      "[notice] A new release of pip is available: 24.0 -> 24.3.1\n",
      "[notice] To update, run: python.exe -m pip install --upgrade pip\n"
     ]
    },
    {
     "name": "stdout",
     "output_type": "stream",
     "text": [
      "Collecting en-core-web-sm==3.8.0\n",
      "  Downloading https://github.com/explosion/spacy-models/releases/download/en_core_web_sm-3.8.0/en_core_web_sm-3.8.0-py3-none-any.whl (12.8 MB)\n",
      "     ---------------------------------------- 0.0/12.8 MB ? eta -:--:--\n",
      "     ---------------------------------------- 0.1/12.8 MB 1.5 MB/s eta 0:00:09\n",
      "     - -------------------------------------- 0.4/12.8 MB 4.2 MB/s eta 0:00:03\n",
      "     -- ------------------------------------- 0.8/12.8 MB 5.9 MB/s eta 0:00:03\n",
      "     ---- ----------------------------------- 1.4/12.8 MB 7.3 MB/s eta 0:00:02\n",
      "     ------- -------------------------------- 2.3/12.8 MB 10.2 MB/s eta 0:00:02\n",
      "     --------- ------------------------------ 3.0/12.8 MB 10.7 MB/s eta 0:00:01\n",
      "     ------------ --------------------------- 4.1/12.8 MB 12.4 MB/s eta 0:00:01\n",
      "     -------------- ------------------------- 4.8/12.8 MB 13.3 MB/s eta 0:00:01\n",
      "     ---------------- ----------------------- 5.4/12.8 MB 13.3 MB/s eta 0:00:01\n",
      "     ------------------- -------------------- 6.3/12.8 MB 14.0 MB/s eta 0:00:01\n",
      "     ---------------------- ----------------- 7.3/12.8 MB 14.6 MB/s eta 0:00:01\n",
      "     ------------------------ --------------- 7.9/12.8 MB 14.4 MB/s eta 0:00:01\n",
      "     ------------------------ --------------- 8.0/12.8 MB 14.1 MB/s eta 0:00:01\n",
      "     -------------------------- ------------- 8.5/12.8 MB 13.3 MB/s eta 0:00:01\n",
      "     ----------------------------- ---------- 9.4/12.8 MB 13.7 MB/s eta 0:00:01\n",
      "     -------------------------------- ------ 10.5/12.8 MB 15.6 MB/s eta 0:00:01\n",
      "     ----------------------------------- --- 11.6/12.8 MB 17.3 MB/s eta 0:00:01\n",
      "     --------------------------------------  12.6/12.8 MB 17.2 MB/s eta 0:00:01\n",
      "     --------------------------------------- 12.8/12.8 MB 16.8 MB/s eta 0:00:00\n",
      "\u001b[38;5;2m✔ Download and installation successful\u001b[0m\n",
      "You can now load the package via spacy.load('en_core_web_sm')\n"
     ]
    },
    {
     "name": "stderr",
     "output_type": "stream",
     "text": [
      "\n",
      "[notice] A new release of pip is available: 24.0 -> 24.2\n",
      "[notice] To update, run: python.exe -m pip install --upgrade pip\n"
     ]
    }
   ],
   "source": [
    "!pip install -U pip setuptools wheel\n",
    "!pip install -U spacy\n",
    "!python -m spacy download en_core_web_sm\n"
   ]
  },
  {
   "cell_type": "code",
   "execution_count": 7,
   "metadata": {},
   "outputs": [],
   "source": [
    "import spacy"
   ]
  },
  {
   "cell_type": "code",
   "execution_count": 8,
   "metadata": {},
   "outputs": [
    {
     "name": "stderr",
     "output_type": "stream",
     "text": [
      "[nltk_data] Downloading package wordnet to\n",
      "[nltk_data]     C:\\Users\\Admin\\AppData\\Roaming\\nltk_data...\n"
     ]
    },
    {
     "data": {
      "text/plain": [
       "True"
      ]
     },
     "execution_count": 8,
     "metadata": {},
     "output_type": "execute_result"
    }
   ],
   "source": [
    "#Execute this line if you are running this code for first time\n",
    "nltk.download('wordnet')"
   ]
  },
  {
   "cell_type": "code",
   "execution_count": 9,
   "metadata": {},
   "outputs": [],
   "source": [
    "#Initializing few variable\n",
    "nlp = spacy.load('en_core_web_sm')\n",
    "lemmatizer = WordNetLemmatizer() \n"
   ]
  },
  {
   "cell_type": "code",
   "execution_count": 10,
   "metadata": {},
   "outputs": [
    {
     "name": "stdout",
     "output_type": "stream",
     "text": [
      "<spacy.lang.en.English object at 0x000001855515CBC0>\n"
     ]
    }
   ],
   "source": [
    "print(nlp)"
   ]
  },
  {
   "cell_type": "code",
   "execution_count": 14,
   "metadata": {},
   "outputs": [],
   "source": [
    "doc = nlp(\"saikrishna big fan of ratan tata sir\")"
   ]
  },
  {
   "cell_type": "code",
   "execution_count": 15,
   "metadata": {},
   "outputs": [
    {
     "data": {
      "text/plain": [
       "saikrishna"
      ]
     },
     "execution_count": 15,
     "metadata": {},
     "output_type": "execute_result"
    }
   ],
   "source": [
    "doc[0]"
   ]
  },
  {
   "cell_type": "code",
   "execution_count": 16,
   "metadata": {},
   "outputs": [
    {
     "data": {
      "text/plain": [
       "'saikrishna'"
      ]
     },
     "execution_count": 16,
     "metadata": {},
     "output_type": "execute_result"
    }
   ],
   "source": [
    "doc[0].lemma_"
   ]
  },
  {
   "cell_type": "code",
   "execution_count": 17,
   "metadata": {},
   "outputs": [],
   "source": [
    "#Step 2. Define functions for Reading Input Text\n",
    "\n",
    "#Function to Read .txt File and return its Text\n",
    "def file_text(filepath):\n",
    "    with open(filepath) as f:\n",
    "        text = f.read().replace(\"\\n\", '')\n",
    "        return text\n"
   ]
  },
  {
   "cell_type": "code",
   "execution_count": 18,
   "metadata": {},
   "outputs": [],
   "source": [
    "#Function to Read PDF File and return its Text\n",
    "def pdfReader(pdf_path):\n",
    "    \n",
    "    with open(pdf_path, 'rb') as pdfFileObject:\n",
    "        pdfReader = PyPDF2.PdfFileReader(pdfFileObject)\n",
    "        count = pdfReader.numPages\n",
    "        print(\"\\nTotal Pages in pdf = \", count)\n",
    "        \n",
    "        c = 'Y'\n",
    "        start_page = 0\n",
    "        end_page = count-1\n",
    "        c = input(\"Do you want to read entire pdf ?[Y]/N  :  \")\n",
    "        if c == 'N' or c == 'n' :\n",
    "            start_page  = int(input(\"Enter start page number (Indexing start from 0) :  \"))\n",
    "            end_page = int(input(f\"Enter end page number (Less than {count}) : \"))\n",
    "            \n",
    "            if start_page <0 or start_page >= count:\n",
    "                print(\"\\nInvalid Start page given\")\n",
    "                sys.exit()\n",
    "                \n",
    "            if end_page <0 or end_page >= count:\n",
    "                print(\"\\nInvalid End page given\")\n",
    "                sys.exit()"
   ]
  },
  {
   "cell_type": "code",
   "execution_count": 19,
   "metadata": {},
   "outputs": [],
   "source": [
    "#Function to Read wikipedia page url and return its Text   \n",
    "def wiki_text(url):\n",
    "    scrap_data = urllib.request.urlopen(url)\n",
    "    article = scrap_data.read()\n",
    "    parsed_article = bs.BeautifulSoup(article,'lxml')\n",
    "    \n",
    "    paragraphs = parsed_article.find_all('p')\n",
    "    article_text = \"\"\n",
    "    \n",
    "    for p in paragraphs:\n",
    "        article_text += p.text\n",
    "    \n",
    "    #Removing all unwanted characters\n",
    "    article_text = re.sub(r'\\[[0-9]*\\]', '', article_text)\n",
    "    return article_text"
   ]
  },
  {
   "cell_type": "code",
   "execution_count": 23,
   "metadata": {},
   "outputs": [],
   "source": [
    "#Step 3. Getting Text \n",
    "\n",
    "input_text_type = int(input(\"Select one way of inputting your text  \\\n",
    ": \\n1. Type your Text(or Copy-Paste)\\n2. Load from .txt file\\n3. Load from .pdf file\\n4. From Wikipedia Page URL\\n\\n\"))\n",
    "\n",
    "if input_text_type == 1:\n",
    "    text = input(u\"Enter your text : \\n\\n\")\n",
    "\n",
    "elif input_text_type == 2:\n",
    "    txt_path = input(\"Enter file path :  \")\n",
    "    text = file_text(txt_path)\n",
    "    \n",
    "        \n",
    "elif input_text_type == 3:\n",
    "    file_path = input(\"Enter file path :  \")\n",
    "    text = pdfReader(file_path)\n",
    "    \n",
    "elif input_text_type == 4:\n",
    "    wiki_url = input(\"Enter Wikipedia URL to load Article : \")\n",
    "    text = wiki_text(wiki_url)\n",
    "    \n",
    "else:\n",
    "    print(\"Sorry! Wrong Input, Try Again.\")"
   ]
  },
  {
   "cell_type": "code",
   "execution_count": 22,
   "metadata": {},
   "outputs": [],
   "source": [
    "\n",
    "\n",
    "#Step 4. Defining functions to create Tf-Idf Matrix\n",
    "\n",
    "\n",
    "#Function to calculate frequency of word in each sentence\n",
    "#INPUT -> List of all sentences from text as spacy.Doc object\n",
    "#OUTPUT -> freq_matrix (A dictionary with each sentence itself as key, \n",
    "# and a dictionary of words of that sentence with their frequency as value)\n",
    "\n",
    "def frequency_matrix(sentences):\n",
    "    freq_matrix = {}\n",
    "    stopWords = nlp.Defaults.stop_words\n",
    "\n",
    "    for sent in sentences:\n",
    "        freq_table = {} #dictionary with 'words' as key and their 'frequency' as value\n",
    "        \n",
    "        #Getting all word from the sentence in lower case\n",
    "        words = [word.text.lower() for word in sent  if word.text.isalnum()]\n",
    "       \n",
    "        for word in words:  \n",
    "            word = lemmatizer.lemmatize(word)   #Lemmatize the word\n",
    "            if word not in stopWords:           #Reject stopwords\n",
    "                if word in freq_table:\n",
    "                    freq_table[word] += 1\n",
    "                else:\n",
    "                    freq_table[word] = 1\n",
    "\n",
    "        freq_matrix[sent[:15]] = freq_table\n",
    "\n",
    "    return freq_matrix"
   ]
  },
  {
   "cell_type": "code",
   "execution_count": 24,
   "metadata": {},
   "outputs": [],
   "source": [
    "#Function to calculate Term Frequency(TF) of each word\n",
    "#INPUT -> freq_matrix\n",
    "#OUTPUT -> tf_matrix (A dictionary with each sentence itself as key, \n",
    "# and a dictionary of words of that sentence with their Term-Frequency as value)\n",
    "\n",
    "#TF(t) = (Number of times term t appears in  document) / (Total number of terms in the document)\n",
    "def tf_matrix(freq_matrix):\n",
    "    tf_matrix = {}\n",
    "\n",
    "    for sent, freq_table in freq_matrix.items():\n",
    "        tf_table = {}  #dictionary with 'word' itself as a key and its TF as value\n",
    "\n",
    "        total_words_in_sentence = len(freq_table)\n",
    "        for word, count in freq_table.items():\n",
    "            tf_table[word] = count / total_words_in_sentence\n",
    "\n",
    "        tf_matrix[sent] = tf_table\n",
    "\n",
    "    return tf_matrix"
   ]
  },
  {
   "cell_type": "code",
   "execution_count": 25,
   "metadata": {},
   "outputs": [],
   "source": [
    "#Function to find how many sentences contain a 'word'\n",
    "#INPUT -> freq_matrix\n",
    "#OUTPUT -> sent_per_words (Dictionary with each word itself as key and number of \n",
    "#sentences containing that word as value)\n",
    "\n",
    "def sentences_per_words(freq_matrix):\n",
    "    sent_per_words = {}\n",
    "\n",
    "    for sent, f_table in freq_matrix.items():\n",
    "        for word, count in f_table.items():\n",
    "            if word in sent_per_words:\n",
    "                sent_per_words[word] += 1\n",
    "            else:\n",
    "                sent_per_words[word] = 1\n",
    "\n",
    "    return sent_per_words\n"
   ]
  },
  {
   "cell_type": "code",
   "execution_count": 26,
   "metadata": {},
   "outputs": [],
   "source": [
    "#Function to calculate Inverse Document frequency(IDF) for each word\n",
    "#INPUT -> freq_matrix,sent_per_words, total_sentences\n",
    "#OUTPUT -> idf_matrix (A dictionary with each sentence itself as key, \n",
    "# and a dictionary of words of that sentence with their IDF as value)\n",
    "\n",
    "#IDF(t) = log_e(Total number of documents / Number of documents with term t in it)\n",
    "def idf_matrix(freq_matrix, sent_per_words, total_sentences):\n",
    "    idf_matrix = {}\n",
    "\n",
    "    for sent, f_table in freq_matrix.items():\n",
    "        idf_table = {}\n",
    "\n",
    "        for word in f_table.keys():\n",
    "            idf_table[word] = math.log10(total_sentences / float(sent_per_words[word]))\n",
    "\n",
    "        idf_matrix[sent] = idf_table\n",
    "\n",
    "    return idf_matrix"
   ]
  },
  {
   "cell_type": "code",
   "execution_count": 27,
   "metadata": {},
   "outputs": [],
   "source": [
    "#Function to calculate Tf-Idf score of each word\n",
    "#INPUT -> tf_matrix, idf_matrix\n",
    "#OUTPUT - > tf_idf_matrix (A dictionary with each sentence itself as key, \n",
    "# and a dictionary of words of that sentence with their Tf-Idf as value)\n",
    "def tf_idf_matrix(tf_matrix, idf_matrix):\n",
    "    tf_idf_matrix = {}\n",
    "\n",
    "    for (sent1, f_table1), (sent2, f_table2) in zip(tf_matrix.items(), idf_matrix.items()):\n",
    "\n",
    "        tf_idf_table = {}\n",
    "\n",
    "       #word1 and word2 are same\n",
    "        for (word1, tf_value), (word2, idf_value) in zip(f_table1.items(),\n",
    "                                                    f_table2.items()):  \n",
    "            tf_idf_table[word1] = float(tf_value * idf_value)\n",
    "\n",
    "        tf_idf_matrix[sent1] = tf_idf_table\n",
    "\n",
    "    return tf_idf_matrix"
   ]
  },
  {
   "cell_type": "code",
   "execution_count": 28,
   "metadata": {},
   "outputs": [],
   "source": [
    "#Function to rate every sentence with some score calculated on basis of Tf-Idf\n",
    "#INPUT -> tf_idf_matrix\n",
    "#OUTPUT - > sentenceScore (Dictionary with each sentence itself as key and its score\n",
    "# as value)\n",
    "def score_sentences(tf_idf_matrix):\n",
    "    \n",
    "    sentenceScore = {}\n",
    "\n",
    "    for sent, f_table in tf_idf_matrix.items():\n",
    "        total_tfidf_score_per_sentence = 0\n",
    "\n",
    "        total_words_in_sentence = len(f_table)\n",
    "        for word, tf_idf_score in f_table.items():\n",
    "            total_tfidf_score_per_sentence += tf_idf_score\n",
    "\n",
    "        if total_words_in_sentence != 0:\n",
    "            sentenceScore[sent] = total_tfidf_score_per_sentence / total_words_in_sentence\n",
    "\n",
    "    return sentenceScore"
   ]
  },
  {
   "cell_type": "code",
   "execution_count": 29,
   "metadata": {},
   "outputs": [],
   "source": [
    "#Function Calculating average sentence score \n",
    "#INPUT -> sentence_score\n",
    "#OUTPUT -> average_sent_score(An average of the sentence_score) \n",
    "def average_score(sentence_score):\n",
    "    \n",
    "    total_score = 0\n",
    "    for sent in sentence_score:\n",
    "        total_score += sentence_score[sent]\n",
    "\n",
    "    average_sent_score = (total_score / len(sentence_score))\n",
    "\n",
    "    return average_sent_score"
   ]
  },
  {
   "cell_type": "code",
   "execution_count": 30,
   "metadata": {},
   "outputs": [],
   "source": [
    "#Function to return summary of article\n",
    "#INPUT -> sentences(list of all sentences in article), sentence_score, threshold\n",
    "# (set to the average pf sentence_score)\n",
    "#OUTPUT -> summary (String text)\n",
    "def create_summary(sentences, sentence_score, threshold):\n",
    "    summary = ''\n",
    "\n",
    "    for sentence in sentences:\n",
    "        if sentence[:15] in sentence_score and sentence_score[sentence[:15]] >= (threshold):\n",
    "            summary += \" \" + sentence.text\n",
    "        \n",
    "\n",
    "    return summary"
   ]
  },
  {
   "cell_type": "code",
   "execution_count": 31,
   "metadata": {},
   "outputs": [],
   "source": [
    "#Step 5. Using all functions to generate summary\n",
    "\n",
    "\n",
    "#Counting number of words in original article\n",
    "original_words = text.split()\n",
    "original_words = [w for w in original_words if w.isalnum()]\n",
    "num_words_in_original_text = len(original_words)\n"
   ]
  },
  {
   "cell_type": "code",
   "execution_count": 32,
   "metadata": {},
   "outputs": [],
   "source": [
    "#Converting received text into sapcy Doc object\n",
    "text = nlp(text)\n"
   ]
  },
  {
   "cell_type": "code",
   "execution_count": 33,
   "metadata": {},
   "outputs": [],
   "source": [
    "#Extracting all sentences from the text in a list\n",
    "sentences = list(text.sents)\n",
    "total_sentences = len(sentences)"
   ]
  },
  {
   "cell_type": "code",
   "execution_count": 51,
   "metadata": {},
   "outputs": [
    {
     "name": "stdout",
     "output_type": "stream",
     "text": [
      "19\n"
     ]
    }
   ],
   "source": [
    "print(total_sentences)"
   ]
  },
  {
   "cell_type": "code",
   "execution_count": 34,
   "metadata": {},
   "outputs": [],
   "source": [
    "#Generating Frequency Matrix\n",
    "freq_matrix = frequency_matrix(sentences)\n"
   ]
  },
  {
   "cell_type": "code",
   "execution_count": 49,
   "metadata": {},
   "outputs": [
    {
     "name": "stdout",
     "output_type": "stream",
     "text": [
      "{BaseExceptionGroupIn a bustling city of dreams, there lived a young artist named Maya,: {'baseexceptiongroupin': 1, 'bustling': 1, 'city': 1, 'dream': 1, 'lived': 1, 'young': 1, 'artist': 1, 'named': 1, 'maya': 1, 'heart': 1, 'aflame': 1, 'singular': 1, 'ambition': 1, 'carve': 1, 'place': 1, 'art': 1, 'world': 1}, Yet, despite her innate talent, Maya felt invisible, eclipsed by the established: {'despite': 1, 'innate': 1, 'talent': 1, 'maya': 1, 'felt': 1, 'invisible': 1, 'eclipsed': 1, 'established': 1, 'artist': 1, 'dominated': 1, 'scene': 1}, She believed the key to success lay in imitation—adopting the techniques and trends: {'believed': 1, 'key': 1, 'success': 1, 'lay': 1, 'imitation': 1, 'adopting': 1, 'technique': 1, 'trend': 1, 'popularized': 1, 'blending': 1, 'crowd': 1}, One fateful evening, Maya encountered Mr. Raoul, an enigmatic and celebrated artist renowned: {'fateful': 1, 'evening': 1, 'maya': 1, 'encountered': 1, 'raoul': 1, 'enigmatic': 1, 'celebrated': 1, 'artist': 1, 'renowned': 1, 'avant': 1, 'garde': 1, 'divisive': 1, 'work': 1}, His style was as unconventional as it was mesmerizing, evoking emotions that transcended mere: {'style': 1, 'wa': 2, 'unconventional': 1, 'mesmerizing': 1, 'evoking': 1, 'emotion': 1, 'transcended': 1, 'mere': 1, 'aesthetic': 1}, Intrigued, Maya asked him the secret to his success.: {'intrigued': 1, 'maya': 1, 'asked': 1, 'secret': 1, 'success': 1}, With a knowing smile, he replied, “Perspective, Maya.: {'knowing': 1, 'smile': 1, 'replied': 1, 'perspective': 1, 'maya': 1}, To see the world as others do is to live forever in their shadow.: {'world': 1, 'live': 1, 'forever': 1, 'shadow': 1}, Inspired by his words, Maya embarked on a journey of self-discovery.: {'inspired': 1, 'word': 1, 'maya': 1, 'embarked': 1, 'journey': 1, 'self': 1, 'discovery': 1}, She stopped imitating and began painting her innermost reflections—capturing the city not just: {'stopped': 1, 'imitating': 1, 'began': 1, 'painting': 1, 'innermost': 1, 'reflection': 1, 'capturing': 1, 'city': 1, 'appeared': 1, 'resonated': 1, 'soul': 1}, She portrayed the bustling streets as vibrant realms of hidden narratives and unspoken emotions.: {'portrayed': 1, 'bustling': 1, 'street': 1, 'vibrant': 1, 'realm': 1, 'hidden': 1, 'narrative': 1, 'unspoken': 1, 'emotion': 1}, Her art, raw and unapologetically personal, defied convention and resonated with an authenticity: {'art': 1, 'raw': 1, 'unapologetically': 1, 'personal': 1, 'defied': 1, 'convention': 1, 'resonated': 1, 'authenticity': 1, 'rarely': 1, 'seen': 1}, Before long, Maya’s work garnered attention.: {'long': 1, 'maya': 1, 'work': 1, 'garnered': 1, 'attention': 1}, Viewers were captivated, drawn to the freshness in her perspective—a viewpoint that: {'viewer': 1, 'captivated': 1, 'drawn': 1, 'freshness': 1, 'perspective': 1, 'viewpoint': 1, 'challenged': 1, 'status': 1, 'quo': 1, 'redefined': 1, 'people': 1, 'perceived': 1, 'familiar': 1, 'urban': 1, 'landscape': 1}, Her creations began gracing the walls of prestigious galleries, and soon, writers,: {'creation': 1, 'began': 1, 'gracing': 1, 'wall': 1, 'prestigious': 1, 'gallery': 1, 'soon': 1, 'writer': 1, 'designer': 1, 'filmmaker': 1, 'sought': 1, 'collaboration': 1, 'enchanted': 1, 'singular': 1, 'vision': 1}, Maya realized that her success stemmed not just from technical prowess but from her courage: {'maya': 1, 'realized': 1, 'success': 1, 'stemmed': 1, 'technical': 1, 'prowess': 1, 'courage': 1, 'embrace': 1, 'distinctive': 1, 'perspective': 1, 'illuminated': 1, 'hidden': 1, 'truth': 1, 'invited': 1, 'view': 1, 'world': 1, 'different': 1, 'lens': 1}, In today’s world, where conformity often masquerades as the norm, true success: {'today': 1, 'world': 1, 'conformity': 1, 'masquerade': 1, 'norm': 1, 'true': 1, 'success': 1, 'frequently': 1, 'resides': 1, 'audacity': 1, 'differently': 1, 'willingness': 1, 'chart': 1, 'path': 1, 'uniquely': 1}, In the end, Maya's journey underscored a powerful truth: that perspective is: {'end': 1, 'maya': 1, 'journey': 1, 'underscored': 1, 'powerful': 1, 'truth': 1, 'perspective': 1, 'invisible': 1, 'compass': 1, 'guiding': 1, 'innovation': 1, 'quiet': 1, 'force': 1, 'breathes': 1, 'originality': 1, 'endeavor': 1}, It is the courage to redefine one’s view of the world that leads to: {'courage': 1, 'redefine': 1, 'view': 1, 'world': 1, 'lead': 1, 'legacy': 1, 'meaningful': 1, 'enduring': 1}}\n"
     ]
    }
   ],
   "source": [
    "print(freq_matrix)"
   ]
  },
  {
   "cell_type": "code",
   "execution_count": 35,
   "metadata": {},
   "outputs": [],
   "source": [
    "#Generating Term Frequency Matrix\n",
    "tf_matrix = tf_matrix(freq_matrix)"
   ]
  },
  {
   "cell_type": "code",
   "execution_count": 36,
   "metadata": {},
   "outputs": [],
   "source": [
    "#Getting number of sentences containing a particular word\n",
    "num_sent_per_words = sentences_per_words(freq_matrix)\n"
   ]
  },
  {
   "cell_type": "code",
   "execution_count": 43,
   "metadata": {},
   "outputs": [
    {
     "name": "stdout",
     "output_type": "stream",
     "text": [
      "{'baseexceptiongroupin': 1, 'bustling': 2, 'city': 2, 'dream': 1, 'lived': 1, 'young': 1, 'artist': 3, 'named': 1, 'maya': 9, 'heart': 1, 'aflame': 1, 'singular': 2, 'ambition': 1, 'carve': 1, 'place': 1, 'art': 2, 'world': 5, 'despite': 1, 'innate': 1, 'talent': 1, 'felt': 1, 'invisible': 2, 'eclipsed': 1, 'established': 1, 'dominated': 1, 'scene': 1, 'believed': 1, 'key': 1, 'success': 4, 'lay': 1, 'imitation': 1, 'adopting': 1, 'technique': 1, 'trend': 1, 'popularized': 1, 'blending': 1, 'crowd': 1, 'fateful': 1, 'evening': 1, 'encountered': 1, 'raoul': 1, 'enigmatic': 1, 'celebrated': 1, 'renowned': 1, 'avant': 1, 'garde': 1, 'divisive': 1, 'work': 2, 'style': 1, 'wa': 1, 'unconventional': 1, 'mesmerizing': 1, 'evoking': 1, 'emotion': 2, 'transcended': 1, 'mere': 1, 'aesthetic': 1, 'intrigued': 1, 'asked': 1, 'secret': 1, 'knowing': 1, 'smile': 1, 'replied': 1, 'perspective': 4, 'live': 1, 'forever': 1, 'shadow': 1, 'inspired': 1, 'word': 1, 'embarked': 1, 'journey': 2, 'self': 1, 'discovery': 1, 'stopped': 1, 'imitating': 1, 'began': 2, 'painting': 1, 'innermost': 1, 'reflection': 1, 'capturing': 1, 'appeared': 1, 'resonated': 2, 'soul': 1, 'portrayed': 1, 'street': 1, 'vibrant': 1, 'realm': 1, 'hidden': 2, 'narrative': 1, 'unspoken': 1, 'raw': 1, 'unapologetically': 1, 'personal': 1, 'defied': 1, 'convention': 1, 'authenticity': 1, 'rarely': 1, 'seen': 1, 'long': 1, 'garnered': 1, 'attention': 1, 'viewer': 1, 'captivated': 1, 'drawn': 1, 'freshness': 1, 'viewpoint': 1, 'challenged': 1, 'status': 1, 'quo': 1, 'redefined': 1, 'people': 1, 'perceived': 1, 'familiar': 1, 'urban': 1, 'landscape': 1, 'creation': 1, 'gracing': 1, 'wall': 1, 'prestigious': 1, 'gallery': 1, 'soon': 1, 'writer': 1, 'designer': 1, 'filmmaker': 1, 'sought': 1, 'collaboration': 1, 'enchanted': 1, 'vision': 1, 'realized': 1, 'stemmed': 1, 'technical': 1, 'prowess': 1, 'courage': 2, 'embrace': 1, 'distinctive': 1, 'illuminated': 1, 'truth': 2, 'invited': 1, 'view': 2, 'different': 1, 'lens': 1, 'today': 1, 'conformity': 1, 'masquerade': 1, 'norm': 1, 'true': 1, 'frequently': 1, 'resides': 1, 'audacity': 1, 'differently': 1, 'willingness': 1, 'chart': 1, 'path': 1, 'uniquely': 1, 'end': 1, 'underscored': 1, 'powerful': 1, 'compass': 1, 'guiding': 1, 'innovation': 1, 'quiet': 1, 'force': 1, 'breathes': 1, 'originality': 1, 'endeavor': 1, 'redefine': 1, 'lead': 1, 'legacy': 1, 'meaningful': 1, 'enduring': 1}\n"
     ]
    }
   ],
   "source": [
    "print(num_sent_per_words)"
   ]
  },
  {
   "cell_type": "code",
   "execution_count": 37,
   "metadata": {},
   "outputs": [],
   "source": [
    "#Generating ID Frequency Matrix\n",
    "idf_matrix = idf_matrix(freq_matrix, num_sent_per_words, total_sentences)\n"
   ]
  },
  {
   "cell_type": "code",
   "execution_count": 44,
   "metadata": {},
   "outputs": [
    {
     "name": "stdout",
     "output_type": "stream",
     "text": [
      "{BaseExceptionGroupIn a bustling city of dreams, there lived a young artist named Maya,: {'baseexceptiongroupin': 1.2787536009528289, 'bustling': 0.9777236052888477, 'city': 0.9777236052888477, 'dream': 1.2787536009528289, 'lived': 1.2787536009528289, 'young': 1.2787536009528289, 'artist': 0.8016323462331665, 'named': 1.2787536009528289, 'maya': 0.3245110915135041, 'heart': 1.2787536009528289, 'aflame': 1.2787536009528289, 'singular': 0.9777236052888477, 'ambition': 1.2787536009528289, 'carve': 1.2787536009528289, 'place': 1.2787536009528289, 'art': 0.9777236052888477, 'world': 0.5797835966168101}, Yet, despite her innate talent, Maya felt invisible, eclipsed by the established: {'despite': 1.2787536009528289, 'innate': 1.2787536009528289, 'talent': 1.2787536009528289, 'maya': 0.3245110915135041, 'felt': 1.2787536009528289, 'invisible': 0.9777236052888477, 'eclipsed': 1.2787536009528289, 'established': 1.2787536009528289, 'artist': 0.8016323462331665, 'dominated': 1.2787536009528289, 'scene': 1.2787536009528289}, She believed the key to success lay in imitation—adopting the techniques and trends: {'believed': 1.2787536009528289, 'key': 1.2787536009528289, 'success': 0.6766936096248666, 'lay': 1.2787536009528289, 'imitation': 1.2787536009528289, 'adopting': 1.2787536009528289, 'technique': 1.2787536009528289, 'trend': 1.2787536009528289, 'popularized': 1.2787536009528289, 'blending': 1.2787536009528289, 'crowd': 1.2787536009528289}, One fateful evening, Maya encountered Mr. Raoul, an enigmatic and celebrated artist renowned: {'fateful': 1.2787536009528289, 'evening': 1.2787536009528289, 'maya': 0.3245110915135041, 'encountered': 1.2787536009528289, 'raoul': 1.2787536009528289, 'enigmatic': 1.2787536009528289, 'celebrated': 1.2787536009528289, 'artist': 0.8016323462331665, 'renowned': 1.2787536009528289, 'avant': 1.2787536009528289, 'garde': 1.2787536009528289, 'divisive': 1.2787536009528289, 'work': 0.9777236052888477}, His style was as unconventional as it was mesmerizing, evoking emotions that transcended mere: {'style': 1.2787536009528289, 'wa': 1.2787536009528289, 'unconventional': 1.2787536009528289, 'mesmerizing': 1.2787536009528289, 'evoking': 1.2787536009528289, 'emotion': 0.9777236052888477, 'transcended': 1.2787536009528289, 'mere': 1.2787536009528289, 'aesthetic': 1.2787536009528289}, Intrigued, Maya asked him the secret to his success.: {'intrigued': 1.2787536009528289, 'maya': 0.3245110915135041, 'asked': 1.2787536009528289, 'secret': 1.2787536009528289, 'success': 0.6766936096248666}, With a knowing smile, he replied, “Perspective, Maya.: {'knowing': 1.2787536009528289, 'smile': 1.2787536009528289, 'replied': 1.2787536009528289, 'perspective': 0.6766936096248666, 'maya': 0.3245110915135041}, To see the world as others do is to live forever in their shadow.: {'world': 0.5797835966168101, 'live': 1.2787536009528289, 'forever': 1.2787536009528289, 'shadow': 1.2787536009528289}, Inspired by his words, Maya embarked on a journey of self-discovery.: {'inspired': 1.2787536009528289, 'word': 1.2787536009528289, 'maya': 0.3245110915135041, 'embarked': 1.2787536009528289, 'journey': 0.9777236052888477, 'self': 1.2787536009528289, 'discovery': 1.2787536009528289}, She stopped imitating and began painting her innermost reflections—capturing the city not just: {'stopped': 1.2787536009528289, 'imitating': 1.2787536009528289, 'began': 0.9777236052888477, 'painting': 1.2787536009528289, 'innermost': 1.2787536009528289, 'reflection': 1.2787536009528289, 'capturing': 1.2787536009528289, 'city': 0.9777236052888477, 'appeared': 1.2787536009528289, 'resonated': 0.9777236052888477, 'soul': 1.2787536009528289}, She portrayed the bustling streets as vibrant realms of hidden narratives and unspoken emotions.: {'portrayed': 1.2787536009528289, 'bustling': 0.9777236052888477, 'street': 1.2787536009528289, 'vibrant': 1.2787536009528289, 'realm': 1.2787536009528289, 'hidden': 0.9777236052888477, 'narrative': 1.2787536009528289, 'unspoken': 1.2787536009528289, 'emotion': 0.9777236052888477}, Her art, raw and unapologetically personal, defied convention and resonated with an authenticity: {'art': 0.9777236052888477, 'raw': 1.2787536009528289, 'unapologetically': 1.2787536009528289, 'personal': 1.2787536009528289, 'defied': 1.2787536009528289, 'convention': 1.2787536009528289, 'resonated': 0.9777236052888477, 'authenticity': 1.2787536009528289, 'rarely': 1.2787536009528289, 'seen': 1.2787536009528289}, Before long, Maya’s work garnered attention.: {'long': 1.2787536009528289, 'maya': 0.3245110915135041, 'work': 0.9777236052888477, 'garnered': 1.2787536009528289, 'attention': 1.2787536009528289}, Viewers were captivated, drawn to the freshness in her perspective—a viewpoint that: {'viewer': 1.2787536009528289, 'captivated': 1.2787536009528289, 'drawn': 1.2787536009528289, 'freshness': 1.2787536009528289, 'perspective': 0.6766936096248666, 'viewpoint': 1.2787536009528289, 'challenged': 1.2787536009528289, 'status': 1.2787536009528289, 'quo': 1.2787536009528289, 'redefined': 1.2787536009528289, 'people': 1.2787536009528289, 'perceived': 1.2787536009528289, 'familiar': 1.2787536009528289, 'urban': 1.2787536009528289, 'landscape': 1.2787536009528289}, Her creations began gracing the walls of prestigious galleries, and soon, writers,: {'creation': 1.2787536009528289, 'began': 0.9777236052888477, 'gracing': 1.2787536009528289, 'wall': 1.2787536009528289, 'prestigious': 1.2787536009528289, 'gallery': 1.2787536009528289, 'soon': 1.2787536009528289, 'writer': 1.2787536009528289, 'designer': 1.2787536009528289, 'filmmaker': 1.2787536009528289, 'sought': 1.2787536009528289, 'collaboration': 1.2787536009528289, 'enchanted': 1.2787536009528289, 'singular': 0.9777236052888477, 'vision': 1.2787536009528289}, Maya realized that her success stemmed not just from technical prowess but from her courage: {'maya': 0.3245110915135041, 'realized': 1.2787536009528289, 'success': 0.6766936096248666, 'stemmed': 1.2787536009528289, 'technical': 1.2787536009528289, 'prowess': 1.2787536009528289, 'courage': 0.9777236052888477, 'embrace': 1.2787536009528289, 'distinctive': 1.2787536009528289, 'perspective': 0.6766936096248666, 'illuminated': 1.2787536009528289, 'hidden': 0.9777236052888477, 'truth': 0.9777236052888477, 'invited': 1.2787536009528289, 'view': 0.9777236052888477, 'world': 0.5797835966168101, 'different': 1.2787536009528289, 'lens': 1.2787536009528289}, In today’s world, where conformity often masquerades as the norm, true success: {'today': 1.2787536009528289, 'world': 0.5797835966168101, 'conformity': 1.2787536009528289, 'masquerade': 1.2787536009528289, 'norm': 1.2787536009528289, 'true': 1.2787536009528289, 'success': 0.6766936096248666, 'frequently': 1.2787536009528289, 'resides': 1.2787536009528289, 'audacity': 1.2787536009528289, 'differently': 1.2787536009528289, 'willingness': 1.2787536009528289, 'chart': 1.2787536009528289, 'path': 1.2787536009528289, 'uniquely': 1.2787536009528289}, In the end, Maya's journey underscored a powerful truth: that perspective is: {'end': 1.2787536009528289, 'maya': 0.3245110915135041, 'journey': 0.9777236052888477, 'underscored': 1.2787536009528289, 'powerful': 1.2787536009528289, 'truth': 0.9777236052888477, 'perspective': 0.6766936096248666, 'invisible': 0.9777236052888477, 'compass': 1.2787536009528289, 'guiding': 1.2787536009528289, 'innovation': 1.2787536009528289, 'quiet': 1.2787536009528289, 'force': 1.2787536009528289, 'breathes': 1.2787536009528289, 'originality': 1.2787536009528289, 'endeavor': 1.2787536009528289}, It is the courage to redefine one’s view of the world that leads to: {'courage': 0.9777236052888477, 'redefine': 1.2787536009528289, 'view': 0.9777236052888477, 'world': 0.5797835966168101, 'lead': 1.2787536009528289, 'legacy': 1.2787536009528289, 'meaningful': 1.2787536009528289, 'enduring': 1.2787536009528289}}\n"
     ]
    }
   ],
   "source": [
    "print(idf_matrix)"
   ]
  },
  {
   "cell_type": "code",
   "execution_count": 38,
   "metadata": {},
   "outputs": [],
   "source": [
    "#Generating Tf-Idf Matrix\n",
    "tf_idf_matrix = tf_idf_matrix(tf_matrix, idf_matrix)\n"
   ]
  },
  {
   "cell_type": "code",
   "execution_count": 45,
   "metadata": {},
   "outputs": [
    {
     "name": "stdout",
     "output_type": "stream",
     "text": [
      "{BaseExceptionGroupIn a bustling city of dreams, there lived a young artist named Maya,: {'baseexceptiongroupin': 0.07522080005604875, 'bustling': 0.05751315325228516, 'city': 0.05751315325228516, 'dream': 0.07522080005604875, 'lived': 0.07522080005604875, 'young': 0.07522080005604875, 'artist': 0.04715484389606862, 'named': 0.07522080005604875, 'maya': 0.019088887736088477, 'heart': 0.07522080005604875, 'aflame': 0.07522080005604875, 'singular': 0.05751315325228516, 'ambition': 0.07522080005604875, 'carve': 0.07522080005604875, 'place': 0.07522080005604875, 'art': 0.05751315325228516, 'world': 0.03410491744804765}, Yet, despite her innate talent, Maya felt invisible, eclipsed by the established: {'despite': 0.11625032735934808, 'innate': 0.11625032735934808, 'talent': 0.11625032735934808, 'maya': 0.029501008319409466, 'felt': 0.11625032735934808, 'invisible': 0.08888396411716798, 'eclipsed': 0.11625032735934808, 'established': 0.11625032735934808, 'artist': 0.07287566783937878, 'dominated': 0.11625032735934808, 'scene': 0.11625032735934808}, She believed the key to success lay in imitation—adopting the techniques and trends: {'believed': 0.11625032735934808, 'key': 0.11625032735934808, 'success': 0.06151760087498787, 'lay': 0.11625032735934808, 'imitation': 0.11625032735934808, 'adopting': 0.11625032735934808, 'technique': 0.11625032735934808, 'trend': 0.11625032735934808, 'popularized': 0.11625032735934808, 'blending': 0.11625032735934808, 'crowd': 0.11625032735934808}, One fateful evening, Maya encountered Mr. Raoul, an enigmatic and celebrated artist renowned: {'fateful': 0.09836566161175607, 'evening': 0.09836566161175607, 'maya': 0.02496239165488493, 'encountered': 0.09836566161175607, 'raoul': 0.09836566161175607, 'enigmatic': 0.09836566161175607, 'celebrated': 0.09836566161175607, 'artist': 0.061664026633320504, 'renowned': 0.09836566161175607, 'avant': 0.09836566161175607, 'garde': 0.09836566161175607, 'divisive': 0.09836566161175607, 'work': 0.07520950809914213}, His style was as unconventional as it was mesmerizing, evoking emotions that transcended mere: {'style': 0.1420837334392032, 'wa': 0.2841674668784064, 'unconventional': 0.1420837334392032, 'mesmerizing': 0.1420837334392032, 'evoking': 0.1420837334392032, 'emotion': 0.1086359561432053, 'transcended': 0.1420837334392032, 'mere': 0.1420837334392032, 'aesthetic': 0.1420837334392032}, Intrigued, Maya asked him the secret to his success.: {'intrigued': 0.2557507201905658, 'maya': 0.06490221830270082, 'asked': 0.2557507201905658, 'secret': 0.2557507201905658, 'success': 0.13533872192497332}, With a knowing smile, he replied, “Perspective, Maya.: {'knowing': 0.2557507201905658, 'smile': 0.2557507201905658, 'replied': 0.2557507201905658, 'perspective': 0.13533872192497332, 'maya': 0.06490221830270082}, To see the world as others do is to live forever in their shadow.: {'world': 0.14494589915420253, 'live': 0.3196884002382072, 'forever': 0.3196884002382072, 'shadow': 0.3196884002382072}, Inspired by his words, Maya embarked on a journey of self-discovery.: {'inspired': 0.1826790858504041, 'word': 0.1826790858504041, 'maya': 0.04635872735907201, 'embarked': 0.1826790858504041, 'journey': 0.13967480075554967, 'self': 0.1826790858504041, 'discovery': 0.1826790858504041}, She stopped imitating and began painting her innermost reflections—capturing the city not just: {'stopped': 0.11625032735934808, 'imitating': 0.11625032735934808, 'began': 0.08888396411716798, 'painting': 0.11625032735934808, 'innermost': 0.11625032735934808, 'reflection': 0.11625032735934808, 'capturing': 0.11625032735934808, 'city': 0.08888396411716798, 'appeared': 0.11625032735934808, 'resonated': 0.08888396411716798, 'soul': 0.11625032735934808}, She portrayed the bustling streets as vibrant realms of hidden narratives and unspoken emotions.: {'portrayed': 0.1420837334392032, 'bustling': 0.1086359561432053, 'street': 0.1420837334392032, 'vibrant': 0.1420837334392032, 'realm': 0.1420837334392032, 'hidden': 0.1086359561432053, 'narrative': 0.1420837334392032, 'unspoken': 0.1420837334392032, 'emotion': 0.1086359561432053}, Her art, raw and unapologetically personal, defied convention and resonated with an authenticity: {'art': 0.09777236052888477, 'raw': 0.1278753600952829, 'unapologetically': 0.1278753600952829, 'personal': 0.1278753600952829, 'defied': 0.1278753600952829, 'convention': 0.1278753600952829, 'resonated': 0.09777236052888477, 'authenticity': 0.1278753600952829, 'rarely': 0.1278753600952829, 'seen': 0.1278753600952829}, Before long, Maya’s work garnered attention.: {'long': 0.2557507201905658, 'maya': 0.06490221830270082, 'work': 0.19554472105776954, 'garnered': 0.2557507201905658, 'attention': 0.2557507201905658}, Viewers were captivated, drawn to the freshness in her perspective—a viewpoint that: {'viewer': 0.08525024006352193, 'captivated': 0.08525024006352193, 'drawn': 0.08525024006352193, 'freshness': 0.08525024006352193, 'perspective': 0.045112907308324436, 'viewpoint': 0.08525024006352193, 'challenged': 0.08525024006352193, 'status': 0.08525024006352193, 'quo': 0.08525024006352193, 'redefined': 0.08525024006352193, 'people': 0.08525024006352193, 'perceived': 0.08525024006352193, 'familiar': 0.08525024006352193, 'urban': 0.08525024006352193, 'landscape': 0.08525024006352193}, Her creations began gracing the walls of prestigious galleries, and soon, writers,: {'creation': 0.08525024006352193, 'began': 0.06518157368592319, 'gracing': 0.08525024006352193, 'wall': 0.08525024006352193, 'prestigious': 0.08525024006352193, 'gallery': 0.08525024006352193, 'soon': 0.08525024006352193, 'writer': 0.08525024006352193, 'designer': 0.08525024006352193, 'filmmaker': 0.08525024006352193, 'sought': 0.08525024006352193, 'collaboration': 0.08525024006352193, 'enchanted': 0.08525024006352193, 'singular': 0.06518157368592319, 'vision': 0.08525024006352193}, Maya realized that her success stemmed not just from technical prowess but from her courage: {'maya': 0.01802839397297245, 'realized': 0.0710418667196016, 'success': 0.0375940894236037, 'stemmed': 0.0710418667196016, 'technical': 0.0710418667196016, 'prowess': 0.0710418667196016, 'courage': 0.05431797807160265, 'embrace': 0.0710418667196016, 'distinctive': 0.0710418667196016, 'perspective': 0.0375940894236037, 'illuminated': 0.0710418667196016, 'hidden': 0.05431797807160265, 'truth': 0.05431797807160265, 'invited': 0.0710418667196016, 'view': 0.05431797807160265, 'world': 0.032210199812045, 'different': 0.0710418667196016, 'lens': 0.0710418667196016}, In today’s world, where conformity often masquerades as the norm, true success: {'today': 0.08525024006352193, 'world': 0.038652239774454006, 'conformity': 0.08525024006352193, 'masquerade': 0.08525024006352193, 'norm': 0.08525024006352193, 'true': 0.08525024006352193, 'success': 0.045112907308324436, 'frequently': 0.08525024006352193, 'resides': 0.08525024006352193, 'audacity': 0.08525024006352193, 'differently': 0.08525024006352193, 'willingness': 0.08525024006352193, 'chart': 0.08525024006352193, 'path': 0.08525024006352193, 'uniquely': 0.08525024006352193}, In the end, Maya's journey underscored a powerful truth: that perspective is: {'end': 0.0799221000595518, 'maya': 0.020281943219594006, 'journey': 0.06110772533055298, 'underscored': 0.0799221000595518, 'powerful': 0.0799221000595518, 'truth': 0.06110772533055298, 'perspective': 0.04229335060155416, 'invisible': 0.06110772533055298, 'compass': 0.0799221000595518, 'guiding': 0.0799221000595518, 'innovation': 0.0799221000595518, 'quiet': 0.0799221000595518, 'force': 0.0799221000595518, 'breathes': 0.0799221000595518, 'originality': 0.0799221000595518, 'endeavor': 0.0799221000595518}, It is the courage to redefine one’s view of the world that leads to: {'courage': 0.12221545066110596, 'redefine': 0.1598442001191036, 'view': 0.12221545066110596, 'world': 0.07247294957710126, 'lead': 0.1598442001191036, 'legacy': 0.1598442001191036, 'meaningful': 0.1598442001191036, 'enduring': 0.1598442001191036}}\n"
     ]
    }
   ],
   "source": [
    "print(tf_idf_matrix)"
   ]
  },
  {
   "cell_type": "code",
   "execution_count": 39,
   "metadata": {},
   "outputs": [],
   "source": [
    "#Generating Sentence score for each sentence\n",
    "sentence_scores = score_sentences(tf_idf_matrix)"
   ]
  },
  {
   "cell_type": "code",
   "execution_count": 46,
   "metadata": {},
   "outputs": [
    {
     "name": "stdout",
     "output_type": "stream",
     "text": [
      "{BaseExceptionGroupIn a bustling city of dreams, there lived a young artist named Maya,: 0.06368289780293136, Yet, despite her innate talent, Maya felt invisible, eclipsed by the established: 0.10193302355915825, She believed the key to success lay in imitation—adopting the techniques and trends: 0.11127462495167895, One fateful evening, Maya encountered Mr. Raoul, an enigmatic and celebrated artist renowned: 0.08811481096191602, His style was as unconventional as it was mesmerizing, evoking emotions that transcended mere: 0.15415439523289265, Intrigued, Maya asked him the secret to his success.: 0.1934986201598743, With a knowing smile, he replied, “Perspective, Maya.: 0.1934986201598743, To see the world as others do is to live forever in their shadow.: 0.27600277496720604, Inspired by his words, Maya embarked on a journey of self-discovery.: 0.15706127962380603, She stopped imitating and began painting her innermost reflections—capturing the city not just: 0.10878677374784439, She portrayed the bustling streets as vibrant realms of hidden narratives and unspoken emotions.: 0.13093447434053723, Her art, raw and unapologetically personal, defied convention and resonated with an authenticity: 0.12185476018200325, Before long, Maya’s work garnered attention.: 0.2055398199864335, Viewers were captivated, drawn to the freshness in her perspective—a viewpoint that: 0.08257441787984209, Her creations began gracing the walls of prestigious galleries, and soon, writers,: 0.08257441787984209, Maya realized that her success stemmed not just from technical prowess but from her courage: 0.05850651956192507, In today’s world, where conformity often masquerades as the norm, true success: 0.07946788452723758, In the end, Maya's journey underscored a powerful truth: that perspective is: 0.0703150981542423, It is the courage to redefine one’s view of the world that leads to: 0.1395156064368539}\n"
     ]
    }
   ],
   "source": [
    "print(sentence_scores)"
   ]
  },
  {
   "cell_type": "code",
   "execution_count": 47,
   "metadata": {},
   "outputs": [],
   "source": [
    "#Setting threshold to average value (You are free to play with ther values) \n",
    "threshold = average_score(sentence_scores)"
   ]
  },
  {
   "cell_type": "code",
   "execution_count": 48,
   "metadata": {},
   "outputs": [
    {
     "name": "stdout",
     "output_type": "stream",
     "text": [
      "0.12733109579558413\n"
     ]
    }
   ],
   "source": [
    "print(threshold)"
   ]
  },
  {
   "cell_type": "code",
   "execution_count": 41,
   "metadata": {},
   "outputs": [
    {
     "name": "stdout",
     "output_type": "stream",
     "text": [
      "\n",
      "\n",
      "\n",
      "******************** Summary ********************\n",
      "\n",
      "\n",
      " Intrigued, Maya asked him the secret to his success. With a knowing smile, he replied, “Perspective, Maya. To see the world as others do is to live forever in their shadow.”   Before long, Maya’s work garnered attention.\n",
      "\n",
      "\n",
      "\n",
      "Total words in original article =  302\n",
      "Total words in summarized article =  37\n"
     ]
    }
   ],
   "source": [
    "#Getting summary \n",
    "summary = create_summary(sentences, sentence_scores, 1.3 * threshold)\n",
    "print(\"\\n\\n\")\n",
    "print(\"*\"*20,\"Summary\",\"*\"*20)\n",
    "print(\"\\n\")\n",
    "print(summary)\n",
    "print(\"\\n\\n\")\n",
    "print(\"Total words in original article = \", num_words_in_original_text)\n",
    "print(\"Total words in summarized article = \", len(summary.split()))"
   ]
  },
  {
   "cell_type": "code",
   "execution_count": 42,
   "metadata": {},
   "outputs": [
    {
     "name": "stdout",
     "output_type": "stream",
     "text": [
      " Intrigued, Maya asked him the secret to his success. With a knowing smile, he replied, “Perspective, Maya. To see the world as others do is to live forever in their shadow.”   Before long, Maya’s work garnered attention.\n"
     ]
    }
   ],
   "source": [
    "print(summary)"
   ]
  },
  {
   "cell_type": "code",
   "execution_count": null,
   "metadata": {},
   "outputs": [],
   "source": []
  }
 ],
 "metadata": {
  "kernelspec": {
   "display_name": "Python 3",
   "language": "python",
   "name": "python3"
  },
  "language_info": {
   "codemirror_mode": {
    "name": "ipython",
    "version": 3
   },
   "file_extension": ".py",
   "mimetype": "text/x-python",
   "name": "python",
   "nbconvert_exporter": "python",
   "pygments_lexer": "ipython3",
   "version": "3.12.4"
  }
 },
 "nbformat": 4,
 "nbformat_minor": 2
}
